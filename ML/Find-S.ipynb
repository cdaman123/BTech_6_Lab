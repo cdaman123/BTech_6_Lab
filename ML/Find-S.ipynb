{
 "cells": [
  {
   "cell_type": "markdown",
   "metadata": {},
   "source": [
    "# Find-S algorithm:\n",
    "\n",
    "---\n",
    "### Important Representation:\n",
    "\n",
    "1. `?` indicates that any value is acceptable for the attribute.\n",
    "2. specify a single required value ( e.g., Cold ) for the attribute.\n",
    "3. `ϕ` indicates that no value is acceptable.\n",
    "4. The most general hypothesis is represented by: `{?, ?, ?, ?, ?, ?}`\n",
    "5. The most specific hypothesis is represented by : `{ϕ, ϕ, ϕ, ϕ, ϕ, ϕ}`\n",
    "\n",
    "---\n",
    "\n",
    "### Algorithm:\n",
    "\n",
    "1. Initialize h to the most specific hypothesis in H\n",
    "2. For each positive training instance x\n",
    "    For each attribute constraint a, in h\n",
    "        If the constraint a, is satisfied by x\n",
    "        Then do nothing\n",
    "        Else replace a, in h by the next more general constraint that is satisfied by x\n",
    "3. Output hypothesis h \n",
    "\n",
    "---"
   ]
  },
  {
   "cell_type": "code",
   "execution_count": 7,
   "metadata": {},
   "outputs": [],
   "source": [
    "#import usful packages\n",
    "\n",
    "import numpy as np\n",
    "import pandas as pd"
   ]
  },
  {
   "cell_type": "code",
   "execution_count": 8,
   "metadata": {},
   "outputs": [],
   "source": [
    "#read data set\n",
    "df = pd.read_csv('data/fs.csv')"
   ]
  },
  {
   "cell_type": "code",
   "execution_count": 9,
   "metadata": {},
   "outputs": [
    {
     "data": {
      "text/html": [
       "<div>\n",
       "<style scoped>\n",
       "    .dataframe tbody tr th:only-of-type {\n",
       "        vertical-align: middle;\n",
       "    }\n",
       "\n",
       "    .dataframe tbody tr th {\n",
       "        vertical-align: top;\n",
       "    }\n",
       "\n",
       "    .dataframe thead th {\n",
       "        text-align: right;\n",
       "    }\n",
       "</style>\n",
       "<table border=\"1\" class=\"dataframe\">\n",
       "  <thead>\n",
       "    <tr style=\"text-align: right;\">\n",
       "      <th></th>\n",
       "      <th>Color</th>\n",
       "      <th>Toughness</th>\n",
       "      <th>Fungus</th>\n",
       "      <th>Appearance</th>\n",
       "      <th>Poisonous</th>\n",
       "    </tr>\n",
       "  </thead>\n",
       "  <tbody>\n",
       "    <tr>\n",
       "      <th>0</th>\n",
       "      <td>Green</td>\n",
       "      <td>Hard</td>\n",
       "      <td>No</td>\n",
       "      <td>Wrinkled</td>\n",
       "      <td>Yes</td>\n",
       "    </tr>\n",
       "    <tr>\n",
       "      <th>1</th>\n",
       "      <td>Green</td>\n",
       "      <td>Hard</td>\n",
       "      <td>Yes</td>\n",
       "      <td>Smooth</td>\n",
       "      <td>No</td>\n",
       "    </tr>\n",
       "    <tr>\n",
       "      <th>2</th>\n",
       "      <td>Brown</td>\n",
       "      <td>Soft</td>\n",
       "      <td>No</td>\n",
       "      <td>Wrinkled</td>\n",
       "      <td>No</td>\n",
       "    </tr>\n",
       "    <tr>\n",
       "      <th>3</th>\n",
       "      <td>Orange</td>\n",
       "      <td>Hard</td>\n",
       "      <td>No</td>\n",
       "      <td>Wrinkled</td>\n",
       "      <td>Yes</td>\n",
       "    </tr>\n",
       "    <tr>\n",
       "      <th>4</th>\n",
       "      <td>Green</td>\n",
       "      <td>Hard</td>\n",
       "      <td>Yes</td>\n",
       "      <td>Wrinkled</td>\n",
       "      <td>Yes</td>\n",
       "    </tr>\n",
       "    <tr>\n",
       "      <th>5</th>\n",
       "      <td>Orange</td>\n",
       "      <td>Hard</td>\n",
       "      <td>No</td>\n",
       "      <td>Wrinkled</td>\n",
       "      <td>Yes</td>\n",
       "    </tr>\n",
       "  </tbody>\n",
       "</table>\n",
       "</div>"
      ],
      "text/plain": [
       "    Color Toughness Fungus Appearance Poisonous\n",
       "0   Green      Hard     No   Wrinkled       Yes\n",
       "1   Green      Hard    Yes     Smooth        No\n",
       "2   Brown      Soft     No   Wrinkled        No\n",
       "3  Orange      Hard     No   Wrinkled       Yes\n",
       "4   Green      Hard    Yes   Wrinkled       Yes\n",
       "5  Orange      Hard     No   Wrinkled       Yes"
      ]
     },
     "execution_count": 9,
     "metadata": {},
     "output_type": "execute_result"
    }
   ],
   "source": [
    "#preview dataset\n",
    "df"
   ]
  },
  {
   "cell_type": "code",
   "execution_count": 10,
   "metadata": {},
   "outputs": [],
   "source": [
    "# find s algo\n",
    "def find_s(con,tar):\n",
    "    for i,val in enumerate(tar):\n",
    "        if val == 'Yes':\n",
    "            specific_h = con[i].copy()\n",
    "            break\n",
    "        \n",
    "    for i,val in enumerate(con):\n",
    "        if tar[i] == 'Yes':\n",
    "            for j,feat in enumerate(val):\n",
    "                if specific_h[j] != feat:\n",
    "                    specific_h[j] = '?'\n",
    "            print(specific_h)\n",
    "    return specific_h"
   ]
  },
  {
   "cell_type": "code",
   "execution_count": 11,
   "metadata": {},
   "outputs": [
    {
     "name": "stdout",
     "output_type": "stream",
     "text": [
      "['Green' 'Hard' 'No' 'Wrinkled']\n",
      "['?' 'Hard' 'No' 'Wrinkled']\n",
      "['?' 'Hard' '?' 'Wrinkled']\n",
      "['?' 'Hard' '?' 'Wrinkled']\n"
     ]
    }
   ],
   "source": [
    "#run algorithm\n",
    "con = np.array(df)[:,:-1]\n",
    "tar = np.array(df)[:,-1]\n",
    "\n",
    "gen_h = find_s(con,tar)\n",
    "\n"
   ]
  },
  {
   "cell_type": "code",
   "execution_count": 12,
   "metadata": {},
   "outputs": [
    {
     "data": {
      "text/plain": [
       "array(['?', 'Hard', '?', 'Wrinkled'], dtype=object)"
      ]
     },
     "execution_count": 12,
     "metadata": {},
     "output_type": "execute_result"
    }
   ],
   "source": [
    "#see result\n",
    "\n",
    "gen_h"
   ]
  },
  {
   "cell_type": "markdown",
   "metadata": {},
   "source": [
    "---"
   ]
  },
  {
   "cell_type": "code",
   "execution_count": null,
   "metadata": {},
   "outputs": [],
   "source": []
  }
 ],
 "metadata": {
  "kernelspec": {
   "display_name": "Python 3",
   "language": "python",
   "name": "python3"
  },
  "language_info": {
   "codemirror_mode": {
    "name": "ipython",
    "version": 3
   },
   "file_extension": ".py",
   "mimetype": "text/x-python",
   "name": "python",
   "nbconvert_exporter": "python",
   "pygments_lexer": "ipython3",
   "version": "3.8.5"
  }
 },
 "nbformat": 4,
 "nbformat_minor": 4
}
